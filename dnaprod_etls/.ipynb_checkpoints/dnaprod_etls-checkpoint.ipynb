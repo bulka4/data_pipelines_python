{
 "cells": [
  {
   "cell_type": "code",
   "execution_count": 1,
   "id": "ff71b210-2761-4e75-87c7-0ebd31f78674",
   "metadata": {},
   "outputs": [],
   "source": [
    "import sys, os\n",
    "\n",
    "sys.path.append(\n",
    "    os.path.join(os.path.dirname(os.getcwd()), 'functions')\n",
    ")\n",
    "\n",
    "from sql_connector import *\n",
    "from functions import *\n",
    "import pandas as pd\n",
    "import numpy as np\n",
    "from datetime import datetime"
   ]
  },
  {
   "cell_type": "code",
   "execution_count": null,
   "id": "0eb0d757-c50b-47d9-9c22-e20cc6edbc2f",
   "metadata": {},
   "outputs": [],
   "source": [
    "dnaprod = sql_connector('DNAPROD', 'Stage')"
   ]
  },
  {
   "cell_type": "code",
   "execution_count": null,
   "id": "9f3e6117-fb67-428c-b162-8327a4475a82",
   "metadata": {},
   "outputs": [],
   "source": [
    "for sql_file in [\n",
    "    'sql_queries/create_table1.sql'\n",
    "    ,'sql_queries/create_table2.sql'\n",
    "    ,'sql_queries/create_table3.sql'\n",
    "    ,'sql_queries/create_table4.sql'\n",
    "    ,'sql_queries/create_table5.sql'\n",
    "]:\n",
    "    dnaprod.execute_sql_file(sql_file)"
   ]
  }
 ],
 "metadata": {
  "kernelspec": {
   "display_name": "Python 3 (ipykernel)",
   "language": "python",
   "name": "python3"
  },
  "language_info": {
   "codemirror_mode": {
    "name": "ipython",
    "version": 3
   },
   "file_extension": ".py",
   "mimetype": "text/x-python",
   "name": "python",
   "nbconvert_exporter": "python",
   "pygments_lexer": "ipython3",
   "version": "3.10.7"
  }
 },
 "nbformat": 4,
 "nbformat_minor": 5
}
